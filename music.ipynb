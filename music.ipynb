{
  "nbformat": 4,
  "nbformat_minor": 0,
  "metadata": {
    "kernelspec": {
      "display_name": "Python 3",
      "language": "python",
      "name": "python3"
    },
    "language_info": {
      "codemirror_mode": {
        "name": "ipython",
        "version": 3
      },
      "file_extension": ".py",
      "mimetype": "text/x-python",
      "name": "python",
      "nbconvert_exporter": "python",
      "pygments_lexer": "ipython3",
      "version": "3.6.10"
    },
    "colab": {
      "name": "music.ipynb",
      "provenance": [],
      "collapsed_sections": [],
      "machine_shape": "hm"
    },
    "accelerator": "GPU"
  },
  "cells": [
    {
      "cell_type": "markdown",
      "metadata": {
        "id": "jm60NwGketwi"
      },
      "source": [
        "****Generate music using Deeplearning****"
      ]
    },
    {
      "cell_type": "code",
      "metadata": {
        "id": "ctldhP67gEST"
      },
      "source": [
        "#Reference: Case study from www.appliedai.com"
      ],
      "execution_count": 33,
      "outputs": []
    },
    {
      "cell_type": "markdown",
      "metadata": {
        "id": "Cc9QIkjsdEOd"
      },
      "source": [
        "Data sources:\n",
        "[Abc](http://abc.sourceforge.net/NMD/)\n",
        "\n",
        "\n",
        "\n",
        "\n"
      ]
    },
    {
      "cell_type": "code",
      "metadata": {
        "id": "szIo5lDDeQSY"
      },
      "source": [
        "# Jigs (340 tunes)\n",
        "# Hornpipes (65 tunes)\n",
        "# Morris (31 tunes)\n",
        "# Playford (15 tunes)\n",
        "# Reels A-C (81 tunes)\n",
        "# Reels D-G (84 tunes)\n",
        "# Reels H-L (93 tunes)\n",
        "# Reels M-Q (80 tunes)\n",
        "# Reels R-T (92 tunes)\n",
        "# Reels U-Z (34 tunes)\n",
        "# Slip Jigs (11 tunes)\n",
        "# Waltzes (52 tunes)\n",
        "# Chrismas Carols and Songs (13 tunes)\n",
        "# Ashover collection (46 tunes)"
      ],
      "execution_count": null,
      "outputs": []
    },
    {
      "cell_type": "markdown",
      "metadata": {
        "id": "5yiIAVNBfKpt"
      },
      "source": [
        "Download all the music file and store in \"input1.txt\""
      ]
    },
    {
      "cell_type": "code",
      "metadata": {
        "id": "2tm55qygGxvK"
      },
      "source": [
        "import os\n",
        "import json\n",
        "import argparse\n",
        "from keras.models import Sequential, load_model\n",
        "from keras.layers import LSTM, Dropout, TimeDistributed, Dense, Activation, Embedding\n",
        "\n",
        "import numpy as np"
      ],
      "execution_count": 1,
      "outputs": []
    },
    {
      "cell_type": "code",
      "metadata": {
        "colab": {
          "base_uri": "https://localhost:8080/"
        },
        "id": "IaE3QbQ9Hs6a",
        "outputId": "24904f5c-a7f3-48af-917e-2e32e1c11ff7"
      },
      "source": [
        "from google.colab import drive\n",
        "drive.mount('/content/drive')"
      ],
      "execution_count": 2,
      "outputs": [
        {
          "output_type": "stream",
          "text": [
            "Mounted at /content/drive\n"
          ],
          "name": "stdout"
        }
      ]
    },
    {
      "cell_type": "code",
      "metadata": {
        "id": "_kj1YyMrHpyU"
      },
      "source": [
        "\n",
        "os.chdir(\"/content/drive/MyDrive/nlp_projects/music_generation/data\")"
      ],
      "execution_count": 3,
      "outputs": []
    },
    {
      "cell_type": "code",
      "metadata": {
        "id": "O6el6jJwG7H2"
      },
      "source": [
        "file = open(\"input1.txt\",\"r\")\n",
        "data=file.read()"
      ],
      "execution_count": 4,
      "outputs": []
    },
    {
      "cell_type": "code",
      "metadata": {
        "colab": {
          "base_uri": "https://localhost:8080/",
          "height": 35
        },
        "id": "qVf8HYfyIM4y",
        "outputId": "134f9bb1-3d37-4d17-eab7-914c0738a23f"
      },
      "source": [
        "data[:30]"
      ],
      "execution_count": 9,
      "outputs": [
        {
          "output_type": "execute_result",
          "data": {
            "application/vnd.google.colaboratory.intrinsic+json": {
              "type": "string"
            },
            "text/plain": [
              "'X: 1\\nT:A and D\\n% Nottingham Mu'"
            ]
          },
          "metadata": {
            "tags": []
          },
          "execution_count": 9
        }
      ]
    },
    {
      "cell_type": "code",
      "metadata": {
        "colab": {
          "base_uri": "https://localhost:8080/"
        },
        "id": "NugZpCK-FWKY",
        "outputId": "8e82008a-a9f7-477a-8ce0-b2fbf6e2de29"
      },
      "source": [
        "# character to index and vice-versa mappings\n",
        "char_to_idx = { ch: i for (i, ch) in enumerate(sorted(list(set(data)))) }\n",
        "print(\"Number of unique characters: \" + str(len(char_to_idx)))"
      ],
      "execution_count": 10,
      "outputs": [
        {
          "output_type": "stream",
          "text": [
            "Number of unique characters: 93\n"
          ],
          "name": "stdout"
        }
      ]
    },
    {
      "cell_type": "code",
      "metadata": {
        "id": "vF3NBLuZFWKk"
      },
      "source": [
        "idx_to_char = { i: ch for (ch, i) in char_to_idx.items() }\n",
        "vocab_size = len(char_to_idx)"
      ],
      "execution_count": 11,
      "outputs": []
    },
    {
      "cell_type": "code",
      "metadata": {
        "colab": {
          "base_uri": "https://localhost:8080/"
        },
        "id": "rJgaIgcIV_x9",
        "outputId": "4055ffc6-d2f2-47fe-b9e0-e13774bd1b1f"
      },
      "source": [
        "vocab_size"
      ],
      "execution_count": 20,
      "outputs": [
        {
          "output_type": "execute_result",
          "data": {
            "text/plain": [
              "93"
            ]
          },
          "metadata": {
            "tags": []
          },
          "execution_count": 20
        }
      ]
    },
    {
      "cell_type": "code",
      "metadata": {
        "id": "BGtes7kiFWKy"
      },
      "source": [
        "def build_model(batch_size, seq_len, vocab_size):\n",
        "    model = Sequential()\n",
        "    model.add(Embedding(vocab_size, 512, batch_input_shape=(batch_size, seq_len)))\n",
        "    for i in range(3):\n",
        "        model.add(LSTM(256, return_sequences=True, stateful=True))\n",
        "        model.add(Dropout(0.2))\n",
        "\n",
        "    model.add(TimeDistributed(Dense(vocab_size))) \n",
        "    model.add(Activation('softmax'))\n",
        "    return model"
      ],
      "execution_count": 12,
      "outputs": []
    },
    {
      "cell_type": "code",
      "metadata": {
        "colab": {
          "base_uri": "https://localhost:8080/"
        },
        "id": "f4M2k9mZLpTx",
        "outputId": "ff068a04-be84-4dbf-ab54-d1e1cbb78b3e"
      },
      "source": [
        "model = build_model(16, 64,vocab_size )\n",
        "model.summary()\n"
      ],
      "execution_count": 13,
      "outputs": [
        {
          "output_type": "stream",
          "text": [
            "Model: \"sequential\"\n",
            "_________________________________________________________________\n",
            "Layer (type)                 Output Shape              Param #   \n",
            "=================================================================\n",
            "embedding (Embedding)        (16, 64, 512)             47616     \n",
            "_________________________________________________________________\n",
            "lstm (LSTM)                  (16, 64, 256)             787456    \n",
            "_________________________________________________________________\n",
            "dropout (Dropout)            (16, 64, 256)             0         \n",
            "_________________________________________________________________\n",
            "lstm_1 (LSTM)                (16, 64, 256)             525312    \n",
            "_________________________________________________________________\n",
            "dropout_1 (Dropout)          (16, 64, 256)             0         \n",
            "_________________________________________________________________\n",
            "lstm_2 (LSTM)                (16, 64, 256)             525312    \n",
            "_________________________________________________________________\n",
            "dropout_2 (Dropout)          (16, 64, 256)             0         \n",
            "_________________________________________________________________\n",
            "time_distributed (TimeDistri (16, 64, 93)              23901     \n",
            "_________________________________________________________________\n",
            "activation (Activation)      (16, 64, 93)              0         \n",
            "=================================================================\n",
            "Total params: 1,909,597\n",
            "Trainable params: 1,909,597\n",
            "Non-trainable params: 0\n",
            "_________________________________________________________________\n"
          ],
          "name": "stdout"
        }
      ]
    },
    {
      "cell_type": "code",
      "metadata": {
        "id": "Rw-SYjp8Ltdd"
      },
      "source": [
        "model.compile(loss='categorical_crossentropy', optimizer='adam', metrics=['accuracy'])"
      ],
      "execution_count": 14,
      "outputs": []
    },
    {
      "cell_type": "code",
      "metadata": {
        "id": "liIpAU6JMKYz"
      },
      "source": [
        "T = np.asarray([char_to_idx[c] for c in data], dtype=np.int32) #convert complete text into numerical indices\n",
        "\n",
        "BATCH_SIZE = 16\n",
        "SEQ_LENGTH = 64\n",
        "steps_per_epoch = (len(data) / BATCH_SIZE - 1) / SEQ_LENGTH "
      ],
      "execution_count": 17,
      "outputs": []
    },
    {
      "cell_type": "code",
      "metadata": {
        "colab": {
          "base_uri": "https://localhost:8080/"
        },
        "id": "gDZ2Cw81VxmT",
        "outputId": "45002bcc-4514-46bf-ddfb-eeb1c311f3d3"
      },
      "source": [
        "T.shape[0]"
      ],
      "execution_count": 19,
      "outputs": [
        {
          "output_type": "execute_result",
          "data": {
            "text/plain": [
              "452185"
            ]
          },
          "metadata": {
            "tags": []
          },
          "execution_count": 19
        }
      ]
    },
    {
      "cell_type": "code",
      "metadata": {
        "id": "HoAZ4Wl-FWKm"
      },
      "source": [
        "def read_batches(T, vocab_size):\n",
        "    length = T.shape[0]; #452185\n",
        "    batch_chars = int(length / BATCH_SIZE); \n",
        "\n",
        "    for start in range(0, batch_chars - SEQ_LENGTH, SEQ_LENGTH): \n",
        "        X = np.zeros((BATCH_SIZE, SEQ_LENGTH)) # 16X64\n",
        "        Y = np.zeros((BATCH_SIZE, SEQ_LENGTH, vocab_size)) # 16X64X93\n",
        "        for batch_idx in range(0, BATCH_SIZE): # (0,16)\n",
        "            for i in range(0, SEQ_LENGTH): #(0,64)\n",
        "                X[batch_idx, i] = T[batch_chars * batch_idx + start + i] # \n",
        "                Y[batch_idx, i, T[batch_chars * batch_idx + start + i + 1]] = 1\n",
        "        yield X, Y"
      ],
      "execution_count": 21,
      "outputs": []
    },
    {
      "cell_type": "code",
      "metadata": {
        "colab": {
          "base_uri": "https://localhost:8080/"
        },
        "id": "wugBoUKeMllw",
        "outputId": "aa828136-ced0-426c-c4f3-845e9767f530"
      },
      "source": [
        "from tqdm import tqdm\n",
        "epochs=100\n",
        "for epoch in range(epochs):\n",
        "    print('\\nEpoch {}/{}'.format(epoch + 1, epochs))\n",
        "        \n",
        "    losses, accs = [], []\n",
        "\n",
        "    for i, (X, Y) in enumerate(read_batches(T, vocab_size)):\n",
        "            \n",
        "        #print(X.shape);\n",
        "\n",
        "        loss, acc = model.train_on_batch(X, Y)\n",
        "        #print('Batch {}: loss = {}, acc = {}'.format(i + 1, loss, acc))\n",
        "        losses.append(loss)\n",
        "        accs.append(acc)\n",
        "    print(\"loss={} and accuracy={}\".format(loss,acc))"
      ],
      "execution_count": 22,
      "outputs": [
        {
          "output_type": "stream",
          "text": [
            "\n",
            "Epoch 1/100\n",
            "loss=1.6085069179534912 and accuracy=0.5537109375\n",
            "\n",
            "Epoch 2/100\n",
            "loss=1.2896875143051147 and accuracy=0.6083984375\n",
            "\n",
            "Epoch 3/100\n",
            "loss=1.1673935651779175 and accuracy=0.6201171875\n",
            "\n",
            "Epoch 4/100\n",
            "loss=1.0717928409576416 and accuracy=0.6591796875\n",
            "\n",
            "Epoch 5/100\n",
            "loss=1.0172667503356934 and accuracy=0.6787109375\n",
            "\n",
            "Epoch 6/100\n",
            "loss=0.9627405405044556 and accuracy=0.7001953125\n",
            "\n",
            "Epoch 7/100\n",
            "loss=0.9324321150779724 and accuracy=0.7109375\n",
            "\n",
            "Epoch 8/100\n",
            "loss=0.8986650705337524 and accuracy=0.716796875\n",
            "\n",
            "Epoch 9/100\n",
            "loss=0.8641549348831177 and accuracy=0.732421875\n",
            "\n",
            "Epoch 10/100\n",
            "loss=0.8449010848999023 and accuracy=0.7353515625\n",
            "\n",
            "Epoch 11/100\n",
            "loss=0.8234649300575256 and accuracy=0.73828125\n",
            "\n",
            "Epoch 12/100\n",
            "loss=0.813001811504364 and accuracy=0.7333984375\n",
            "\n",
            "Epoch 13/100\n",
            "loss=0.7735465168952942 and accuracy=0.75390625\n",
            "\n",
            "Epoch 14/100\n",
            "loss=0.7448613047599792 and accuracy=0.7548828125\n",
            "\n",
            "Epoch 15/100\n",
            "loss=0.7335025668144226 and accuracy=0.775390625\n",
            "\n",
            "Epoch 16/100\n",
            "loss=0.7338449358940125 and accuracy=0.763671875\n",
            "\n",
            "Epoch 17/100\n",
            "loss=0.7046875357627869 and accuracy=0.775390625\n",
            "\n",
            "Epoch 18/100\n",
            "loss=0.6818236112594604 and accuracy=0.78125\n",
            "\n",
            "Epoch 19/100\n",
            "loss=0.6797299385070801 and accuracy=0.7783203125\n",
            "\n",
            "Epoch 20/100\n",
            "loss=0.6662287712097168 and accuracy=0.7841796875\n",
            "\n",
            "Epoch 21/100\n",
            "loss=0.6607388854026794 and accuracy=0.7890625\n",
            "\n",
            "Epoch 22/100\n",
            "loss=0.6424298882484436 and accuracy=0.7880859375\n",
            "\n",
            "Epoch 23/100\n",
            "loss=0.6629289984703064 and accuracy=0.7890625\n",
            "\n",
            "Epoch 24/100\n",
            "loss=0.6004338264465332 and accuracy=0.8046875\n",
            "\n",
            "Epoch 25/100\n",
            "loss=0.594452977180481 and accuracy=0.7958984375\n",
            "\n",
            "Epoch 26/100\n",
            "loss=0.589095950126648 and accuracy=0.814453125\n",
            "\n",
            "Epoch 27/100\n",
            "loss=0.5925982594490051 and accuracy=0.8154296875\n",
            "\n",
            "Epoch 28/100\n",
            "loss=0.5862221121788025 and accuracy=0.806640625\n",
            "\n",
            "Epoch 29/100\n",
            "loss=0.5479697585105896 and accuracy=0.8134765625\n",
            "\n",
            "Epoch 30/100\n",
            "loss=0.5605339407920837 and accuracy=0.82421875\n",
            "\n",
            "Epoch 31/100\n",
            "loss=0.5533670783042908 and accuracy=0.8134765625\n",
            "\n",
            "Epoch 32/100\n",
            "loss=0.5534650087356567 and accuracy=0.833984375\n",
            "\n",
            "Epoch 33/100\n",
            "loss=0.5735979676246643 and accuracy=0.822265625\n",
            "\n",
            "Epoch 34/100\n",
            "loss=0.5237566232681274 and accuracy=0.830078125\n",
            "\n",
            "Epoch 35/100\n",
            "loss=0.5655918121337891 and accuracy=0.8291015625\n",
            "\n",
            "Epoch 36/100\n",
            "loss=0.554296612739563 and accuracy=0.822265625\n",
            "\n",
            "Epoch 37/100\n",
            "loss=0.5275086164474487 and accuracy=0.833984375\n",
            "\n",
            "Epoch 38/100\n",
            "loss=0.5448623895645142 and accuracy=0.8232421875\n",
            "\n",
            "Epoch 39/100\n",
            "loss=0.5293906331062317 and accuracy=0.830078125\n",
            "\n",
            "Epoch 40/100\n",
            "loss=0.5005297064781189 and accuracy=0.84375\n",
            "\n",
            "Epoch 41/100\n",
            "loss=0.5102472305297852 and accuracy=0.837890625\n",
            "\n",
            "Epoch 42/100\n",
            "loss=0.5023418664932251 and accuracy=0.8427734375\n",
            "\n",
            "Epoch 43/100\n",
            "loss=0.4910691976547241 and accuracy=0.841796875\n",
            "\n",
            "Epoch 44/100\n",
            "loss=0.48062700033187866 and accuracy=0.837890625\n",
            "\n",
            "Epoch 45/100\n",
            "loss=0.48547738790512085 and accuracy=0.8388671875\n",
            "\n",
            "Epoch 46/100\n",
            "loss=0.4700842499732971 and accuracy=0.8515625\n",
            "\n",
            "Epoch 47/100\n",
            "loss=0.4729846119880676 and accuracy=0.8505859375\n",
            "\n",
            "Epoch 48/100\n",
            "loss=0.4785606563091278 and accuracy=0.8466796875\n",
            "\n",
            "Epoch 49/100\n",
            "loss=0.4789276123046875 and accuracy=0.8515625\n",
            "\n",
            "Epoch 50/100\n",
            "loss=0.4650733470916748 and accuracy=0.85546875\n",
            "\n",
            "Epoch 51/100\n",
            "loss=0.4566878378391266 and accuracy=0.853515625\n",
            "\n",
            "Epoch 52/100\n",
            "loss=0.4880487024784088 and accuracy=0.8310546875\n",
            "\n",
            "Epoch 53/100\n",
            "loss=0.4519423246383667 and accuracy=0.8564453125\n",
            "\n",
            "Epoch 54/100\n",
            "loss=0.4594961404800415 and accuracy=0.859375\n",
            "\n",
            "Epoch 55/100\n",
            "loss=0.4730921983718872 and accuracy=0.84765625\n",
            "\n",
            "Epoch 56/100\n",
            "loss=0.46047210693359375 and accuracy=0.845703125\n",
            "\n",
            "Epoch 57/100\n",
            "loss=0.45658236742019653 and accuracy=0.85546875\n",
            "\n",
            "Epoch 58/100\n",
            "loss=0.4735250771045685 and accuracy=0.8486328125\n",
            "\n",
            "Epoch 59/100\n",
            "loss=0.4588809907436371 and accuracy=0.849609375\n",
            "\n",
            "Epoch 60/100\n",
            "loss=0.43547341227531433 and accuracy=0.8525390625\n",
            "\n",
            "Epoch 61/100\n",
            "loss=0.46270987391471863 and accuracy=0.84765625\n",
            "\n",
            "Epoch 62/100\n",
            "loss=0.42189544439315796 and accuracy=0.859375\n",
            "\n",
            "Epoch 63/100\n",
            "loss=0.4182014465332031 and accuracy=0.8642578125\n",
            "\n",
            "Epoch 64/100\n",
            "loss=0.4256133735179901 and accuracy=0.8642578125\n",
            "\n",
            "Epoch 65/100\n",
            "loss=0.46818825602531433 and accuracy=0.8583984375\n",
            "\n",
            "Epoch 66/100\n",
            "loss=0.4458521902561188 and accuracy=0.8681640625\n",
            "\n",
            "Epoch 67/100\n",
            "loss=0.42842191457748413 and accuracy=0.8515625\n",
            "\n",
            "Epoch 68/100\n",
            "loss=0.4006933867931366 and accuracy=0.8603515625\n",
            "\n",
            "Epoch 69/100\n",
            "loss=0.4627256989479065 and accuracy=0.8408203125\n",
            "\n",
            "Epoch 70/100\n",
            "loss=0.4349597990512848 and accuracy=0.85546875\n",
            "\n",
            "Epoch 71/100\n",
            "loss=0.4250461757183075 and accuracy=0.8642578125\n",
            "\n",
            "Epoch 72/100\n",
            "loss=0.46218055486679077 and accuracy=0.849609375\n",
            "\n",
            "Epoch 73/100\n",
            "loss=0.42711111903190613 and accuracy=0.8642578125\n",
            "\n",
            "Epoch 74/100\n",
            "loss=0.44281649589538574 and accuracy=0.8466796875\n",
            "\n",
            "Epoch 75/100\n",
            "loss=0.44654521346092224 and accuracy=0.859375\n",
            "\n",
            "Epoch 76/100\n",
            "loss=0.43682676553726196 and accuracy=0.83984375\n",
            "\n",
            "Epoch 77/100\n",
            "loss=0.42424440383911133 and accuracy=0.8642578125\n",
            "\n",
            "Epoch 78/100\n",
            "loss=0.39310503005981445 and accuracy=0.8662109375\n",
            "\n",
            "Epoch 79/100\n",
            "loss=0.38546130061149597 and accuracy=0.875\n",
            "\n",
            "Epoch 80/100\n",
            "loss=0.42315563559532166 and accuracy=0.861328125\n",
            "\n",
            "Epoch 81/100\n",
            "loss=0.4252043664455414 and accuracy=0.8701171875\n",
            "\n",
            "Epoch 82/100\n",
            "loss=0.40692222118377686 and accuracy=0.8623046875\n",
            "\n",
            "Epoch 83/100\n",
            "loss=0.3917387127876282 and accuracy=0.861328125\n",
            "\n",
            "Epoch 84/100\n",
            "loss=0.3961792588233948 and accuracy=0.865234375\n",
            "\n",
            "Epoch 85/100\n",
            "loss=0.42419788241386414 and accuracy=0.8623046875\n",
            "\n",
            "Epoch 86/100\n",
            "loss=0.4440237879753113 and accuracy=0.8662109375\n",
            "\n",
            "Epoch 87/100\n",
            "loss=0.4248596727848053 and accuracy=0.86328125\n",
            "\n",
            "Epoch 88/100\n",
            "loss=0.40329888463020325 and accuracy=0.857421875\n",
            "\n",
            "Epoch 89/100\n",
            "loss=0.3717954456806183 and accuracy=0.8779296875\n",
            "\n",
            "Epoch 90/100\n",
            "loss=0.4206203818321228 and accuracy=0.857421875\n",
            "\n",
            "Epoch 91/100\n",
            "loss=0.41354262828826904 and accuracy=0.86328125\n",
            "\n",
            "Epoch 92/100\n",
            "loss=0.4201100170612335 and accuracy=0.8583984375\n",
            "\n",
            "Epoch 93/100\n",
            "loss=0.41208046674728394 and accuracy=0.873046875\n",
            "\n",
            "Epoch 94/100\n",
            "loss=0.41596123576164246 and accuracy=0.8642578125\n",
            "\n",
            "Epoch 95/100\n",
            "loss=0.399723082780838 and accuracy=0.869140625\n",
            "\n",
            "Epoch 96/100\n",
            "loss=0.41364818811416626 and accuracy=0.8740234375\n",
            "\n",
            "Epoch 97/100\n",
            "loss=0.41249406337738037 and accuracy=0.8701171875\n",
            "\n",
            "Epoch 98/100\n",
            "loss=0.4043450951576233 and accuracy=0.859375\n",
            "\n",
            "Epoch 99/100\n",
            "loss=0.3927728533744812 and accuracy=0.8662109375\n",
            "\n",
            "Epoch 100/100\n",
            "loss=0.4141685962677002 and accuracy=0.8583984375\n"
          ],
          "name": "stdout"
        }
      ]
    },
    {
      "cell_type": "code",
      "metadata": {
        "id": "FBereZa1YF7-"
      },
      "source": [
        "model.save_weights(\"music_gen.h5\")"
      ],
      "execution_count": 23,
      "outputs": []
    },
    {
      "cell_type": "code",
      "metadata": {
        "id": "VdpxuHt5YF-o"
      },
      "source": [
        "def build_sample_model(vocab_size):\n",
        "    model = Sequential()\n",
        "    model.add(Embedding(vocab_size, 512, batch_input_shape=(1, 1)))\n",
        "    for i in range(3):\n",
        "        model.add(LSTM(256, return_sequences=(i != 2), stateful=True))\n",
        "        model.add(Dropout(0.2))\n",
        "\n",
        "    model.add(Dense(vocab_size))\n",
        "    model.add(Activation('softmax'))\n",
        "    return model"
      ],
      "execution_count": 24,
      "outputs": []
    },
    {
      "cell_type": "code",
      "metadata": {
        "colab": {
          "base_uri": "https://localhost:8080/"
        },
        "id": "68R6wCZDY7av",
        "outputId": "3521aa58-e122-46d4-b001-02d3fee2976e"
      },
      "source": [
        "vocab_size"
      ],
      "execution_count": 25,
      "outputs": [
        {
          "output_type": "execute_result",
          "data": {
            "text/plain": [
              "93"
            ]
          },
          "metadata": {
            "tags": []
          },
          "execution_count": 25
        }
      ]
    },
    {
      "cell_type": "code",
      "metadata": {
        "id": "52ESIaqlYmzH"
      },
      "source": [
        "model = build_sample_model(vocab_size)\n",
        "model.load_weights(\"music_gen.h5\")"
      ],
      "execution_count": 26,
      "outputs": []
    },
    {
      "cell_type": "code",
      "metadata": {
        "id": "tf6gl8YTva50"
      },
      "source": [
        "sequence_index = [25] # any random number between 1-93\n",
        "    \n",
        "for _ in range(8000):\n",
        "    batch = np.zeros((1, 1))\n",
        "    batch[0, 0] = sequence_index[-1]\n",
        "        \n",
        "    predicted_probs = model.predict_on_batch(batch).ravel()\n",
        "    sample = np.random.choice(range(vocab_size), p = predicted_probs)\n",
        "        \n",
        "    sequence_index.append(sample)"
      ],
      "execution_count": 27,
      "outputs": []
    },
    {
      "cell_type": "code",
      "metadata": {
        "id": "pQGgAz6UoQyX"
      },
      "source": [
        "seq = ''.join(idx_to_char[c] for c in sequence_index)"
      ],
      "execution_count": 28,
      "outputs": []
    },
    {
      "cell_type": "code",
      "metadata": {
        "colab": {
          "base_uri": "https://localhost:8080/",
          "height": 139
        },
        "id": "BvGaPvRuap6f",
        "outputId": "277acdca-85a1-4abc-f0a7-93b6a608a1f9"
      },
      "source": [
        "seq"
      ],
      "execution_count": 29,
      "outputs": [
        {
          "output_type": "execute_result",
          "data": {
            "application/vnd.google.colaboratory.intrinsic+json": {
              "type": "string"
            },
            "text/plain": [
              "'9\\nM:9/8\\nL:1/8\\nQ:1 1150|P\"G\\nP:Lig\\nd|\"G\"G/2F/2G/2G/2 Bd/2B/2|\"G\"G/2A/2G/2F/2 ED/2G/2|\\\\\\n\"Am\"A/2B/2c/2d/2 c/2B/2A/2G/2|\"Am\"FA A:|\\nP:B\\nA/2G/2|\"D\"F/2D/2D/2E/2 F/2D/2D/2E/2|\"G\"D/2E/2G/2F/2 GG/2A/2|\"Em\"B/2c/2B/2G/2 A/2B/2c/2d/2|\\\\\\n\"Em\"e/2d/2c/2B/2 \"Am\"A/2B/2c/2d/2|\"Am\"eA A:|\\nP:B ett A\\nd/2c/2|B/2d/2=c/2d/2 e/2d/2c/2B/2|A/2g/2e/2f/2 g/2f/2e/2d/2|\\\\\\nBA/2G/2 F/2D/2E/2G/2|\\nF/2G/2A/2B/2 c/2B/2d/2B/2|c/2e/2f/2g/2 a/2e/2d/2c/2|\\\\\\ng/2d/2c/2B/2 A/2G/2F/2E/2|G/2F/2E/2D/2 B/2E/2D/2E/2|\\nG/4B/4A/2G/2 F/2G/2F/2E/2|G/2E/2E/2G/2 F/2G/2A/2B/2|\\\\\\n [1A B/2A/2\\nP:3\\nB/2A/2||\\nP:t. 4\\nf/2 z/2z/2]z/2 |d/2z/2e/2 F/2D/2d/2c/2|B/2d/2e/2F/2 a/2A/2b/2e/2|\\\\\\nK:D\\na/4f/8g/8a/4c/4d/4f/4 g/4f/4f/4g/4f/4e/4|d/4B/4A/8B/4A/4A/4B/4 c/4d/4e/4f/4e/4d/4c/4B/4A/4G/4|\\\\\\nK:D\\nF/2f/2e/2d/2c d/2A/2c/2B/2|c/2d/2e/2f/2 d/2c/2d/2e/2|\\\\\\nK:D\\nf/4F/4G/4F/4E/4e/4f/4e/4 d/4F/4F/4D/4E/4F/4E/4A/4A/4G/4|F/4G/4B/4A/4A/4G/4A/4A/4 F/4G/4B/4A/4A/4G/4F/4E/4A/4G/4|\\\\\\nD/4E/8C/4E/4C/4F/4G/4F/4D/4E/4 B/4A/4B/4A/4A/4G/4A/4B/4A/4G/4|\\\\\\nK:D\\nF/2f/2e z/2d/2f|bF bc\\'||\\nK:D\\nF/2d/2|\"D\"f/2d/2f/2d/2 d/2d/2f/2d/2|\"D\"f/2f/2A/2f/2 -f/2d/2A|\\\\\\n\"A\"B/2c/2e/2c/2 \"A\"^c/2a/2g/2c/2|\"D\"d/2e/2f/2d/2 \"A7\"e/2g/2f/2e/2|\\n\"D\"df/2d/2 c/2d/2f/2d/2|\"A\"e/2c/2e/2c/2 \"A\"ac/2a/2|\"G\"g/2f/2e/2d/2 \"A\"c/2d/2e/2c/2|\\\\\\n\"G\"e/2d/2c/2B/2 \"A\"A/2e/2A/2c/2|\"Em\"B/2A/2G/2B/2 \"A\"A3/2F/2|\\n\"D\"D/2F/2A/2F/2 B/2F/2D/2F/2|\"C\"=CA Ez|\"A7\"A/2c/2e/2g/2 e/2c/2e/2c/2|\\\\\\n\"D\"df d::\\nf/2g/2|\"D\"aa/2f/2 aa/2f/2|\"A\"e/2f/2e/2d/2 c/2B/2A|\"A\"C/2E/2E =C2|\"D\"D/2F/2A/2d/2 fe/2d/2|\\n\"D\"fA fA|\"D\"f/2g/2f/2e/2 d2|\"A7\"c/2d/2e/2c/2 A/2B/2c/2A/2|\\\\\\n\"D\"f3f/2g/2|\\n\"D\"\"f#\"a/2a/2f/2d/2 \"Bm\"fe/2d/2|\"Em\"e/2d/2e/2f/2 g/2f/2e/2d/2|\\\\\\n\"D\"A/2F/2A/2F/2 d/2F/2E/2D/2|\"D\"F/2A/2d/2e/2 fd/2A/2|\\n\"D\"F/2A/2d/2c/2 d/2e/2f/2d/2|\"A7\"e/2c/2e/2g/2 e/2c/2e/2g/2|\"D\"f/2d/2f/2a/2 g/2f/2d/2f/2|\\\\\\n\"G\"e/2d/2B/2f/2 g/2f/2e/2d/2|\"A7\"c/2A/2B/2c/2 \"D\"d::\\nP:B\\nd/2e/2|\"D\"f/2d/2B/2d/2 df|\"G\"B/2G/2B/2d/2 \"A\"c/2d/2c/2B/2|\\\\\\n\"A\"A/2d/2e/2f/2 \"A7\"g/2f/2e/2g/2|\"A7\"f/2d/2e/2c/2 \"D\"d:|\\n\\n\\nX: 51\\nT:Chore The Wanden\\n% Nottingham Music Database\\nS:John Goodacre 1984, via PR\\nM:4/4\\nL:1/4\\nK:C\\nGG |\"C\"c2 \"G7\"G2|\"C\"cd -dc|\"G7\"ed BG|\"C\"c2 e2|\"C\"A2 GA|\"G\"B2 A2-|\"C\"c2 -c2|\"D7\"c2 A2|\"G\"G4-|\\\\\\n\"G7\"G2 ||\\n\\n\\nX: 16\\nT:Westland Cance\\n% Nottingham Music Database\\nS:Bob McQuillen Feb 1975, via PR\\nM:4/4\\nL:1/4\\nK:F\\nC|\"F\"FF AA|c=c/2c/2 ef-|\"Dm\"a/2g/2f/2e/2 \"G7\"d/2c/2B/2A/2|\\\\\\n[1\"C\"ce d/2c/2B/2G/2:|2\"C\"ec cd:|\\nK:C\\n|:\"C\"c/2c/2c/2c/2 cc|e/2c/2e/2c/2 c/2e/2c/2A/2|\"Dm\"F/2G/2F/2G/2 A/2B/2c/2d/2|\\\\\\n\"D7\"e/2d/2c/2B/2 \"G\" G:|\\n\\n\\nX: 8\\nT:Nonerman\\'s Jig\\n% Nottingham Music Database\\nS:Trad, via EF\\nM:6/8\\nK:Am\\nE|\"Am\"A2B c2d|ecA ecA|\"G\"G2G G2G|\"G\"BGB dcB|\\n\"Am\"A2A A^GA|\"G\"BAG \"Em\"AGG|\"Am\"ABc \"E\"^cBG|\"Am\"\"F\"FAA A2:|\\n\\n\\nX: 123\\nT:King of the Fairies\\n% Nottingham Music Database\\nS:Helen, via EF\\nM:4/4\\nL:1/4\\nK:A\\nP:A\\ne/2d/2|\"A\"cA A/2B/2A/2F/2|\"A\"E/2F/2A/2B/2 cB/2A/2|\"D\"f/2e/2d/2c/2 \"E7\"B/2A/2G/2B/2|\\\\\\n\"A\"Aa/2g/2 \"D\"f/2d/2e/2f/2|\"E7\"e/2d/2c/2B/2 \"A\"A:|\\nP:B\\nc/2d/2|\"A\"e/2c/2A/2e/2 c/2A/2c/2A/2|\"D\"f/2g/2a/2f/2 \"A\"c/2e/2A/2c/2|\\\\\\n\"D\"B/2A/2A/2B/2 \"E7\"A/2B/2c/2d/2|\"A\"e/2d/2c/2B/2 A/2f/2e/2d/2|\\n\"A\"c/2A/2c/2d/2 e/2c/2A/2c/2|\"D\"d/2f/2d/2c/2 d/2f/2a/2f/2|\\\\\\n\"E7\"e/2d/2c/2B/2 \"A\"AA/2d/2|\\n\"A\"c/2A/2e/2A/2 f/2A/2e/2A/2|c/2A/2c/2A/2 c/2A/2f/2a/2|\\\\\\n\"A\"e/2c/2B/2A/2 \"E\"Bc/2d/2|\\n\"A\"e/2c/2A/2c/2 f/2c/2a/2c/2|\"D\"g/2f/2e/2f/2 \"E\"g/2a/2b/2g/2|\\\\\\n\"A\"a/2g/2f/2e/2 \"D\"d/2c/2d/2e/2|\"E7\"f/2e/2d/2c/2 \"A\"BA/2A/2|\\n\"D\"d/2f/2a/2f/2 \"A\"e/2c/2c/2e/2|\"D\"f/2d/2f/2a/2 \"A\"e/2c/2A/2e/2|\\\\\\n\"D\"f/2d/2f/2a/2 \"A\"e/2c/2A/2c/2|\"D\"d/2c/2d/2A/2 d/2A/2F/2A/2|\"E7\"BA/2B/2 \"A\"c/2B/2A/2G/2|\\n\"D\"Af/2d/2 A/2d/2f/2d/2|\"A\"e/2c/2e/2a/2 \"D\"f/2d/2f/2a/2|\"A\"e/2c/2A/2c/2 \"E\"BG/2e/2|\\\\\\n\"A\"a/2g/2a/2e/2 \"D\"f/2e/2d/2c/2|\"E7\"B/2A/2G/2B/2 \"A\"A::\\nP:B\\nc/2B/2|\"A\"Ac/2A/2 Bc/2A/2|\"Bm\"B/2c/2d/2e/2 fa|\"E\"g/2e/2f/2e/2 \"E7\"d/2e/2d/2B/2|\\\\\\n\"A\"A/2B/2A/2F/2 D||\\n\\n\\nX: 10\\nT:Merrydale Rock\\n% Nottingham Music Database\\nS:Bob McQuillen Bet 1971, via Phil Rowe\\nM:6/8\\nK:A\\n\"E7\"A2B |\"A\"c2e \"E7/f+\"efg|\"A\"a2A AGA|\"D\"FAd \"A\"cAC|\\n\"D\"FAA \"A\"GEC|\"A\"EAc \"E7\"BGE|\"A\"CEC A2G|\"A\"BAA \"E7\"Bcd|\"A\"A3 A2:|\\nP:B\\n|:c|\"D\"d2d dcd|\"A\"a2e \"E7\"e2d|\"A\"c2A Ace|\"D\"f2f fgf|\"A\"e2c \"E7\"B2d|\\n\"A\"c2e edc|\"Bm\"d2c \"E7\"Bcd|\"A\"e3 \"E7\"e3|\"A\"A2A ABc|\"Bm\"d2B \"E7\"ced|\\n\"A\"c2c ecA|\"B7\"Bcd dcB|\"E7\"F3 G2f|\"A\"e2c \"E7\"Bcd|\"A\"e3 Ace|\\n\"A\"efe cde|\"D\"f2f f2a|\"A\"ecA ecA|\"D\"d2d def|\\n\"A\"e3 c2e|\"D\"AFA dFF|\"E7\"AcB EFG|\"A\"A3 -A2A||\\n\"A\"c2c \"E7\"Bed|\"A\"c2A \"E7\"AG^G|\"A\"A3 -A2e|\"D\"f2f \"Bm\"e2f|\"E\"efd \"A\"cde|\\n\"D\"faf \"A\"edc|\"D\"a2g \"Bm\"fed|\"A\"c2c \"E7\"BAG|\"A\"A3 -A2:|\\n\\n\\nX: 52\\nT:The Chack Cadding\\n% Nottingham Music Database\\nS:Trad, arr Phil Rowe\\nM:6/8\\nK:Em\\nF|\"Em\"EGE F3|\"Em\"EFG G2B|\"A\"ABA G2F|\"Em\"EFE \"G\"G2G|\"C\"EGG \"D7\"AGF|\"G\"G2D G2::\\nA|\"G\"B2G \"D7\"AFD|\"G\"G3 \"D7\"A3|\"G\"dcB \"A7/c\"A2G|\"D7\"FGA DEF|\\n\"G\"G2A \"Em\"B2E|\"Em\"E2B \"Am\"G2^F|\"D7\"DGc \"G\"BAG|\\n\"C\"e2c \"G\"d2B|\"C\"c2c \"D7\"cBA|\"G\"GAB \"C\"cde|\"D\"d3 \"Am\"A2G|\\n\"G\"B3 \"D7\"AGF|\"G\"DED G2A|\"C\"BAG \"D7\"FED|\"C\"EFG \"D7\"AFD|\"G\"G3 G2D::\\n\"G\"GBA G3|\"C\"Bcd \"G\"B2A|\"C\"GEE \"G\"D2E|\"Am\"E2C \"D7\"D2c|\\n\"G\"BGE DED|\"C\"E2F G2E|\"G\"D2B, D2D|\"C\"E2D \"D\"F2G|\"G\"A2B \"C\"c2B\\\\\\n|\\n\"Em\"EFE G2A|\"G\"BAG G2D|\"C\"E2D \"D\"D2D|\"G\"G2G GAB|\"C\"ABc \"G\"dcB|\"Am\"ABG \"D7\"FED|\\n\"G\"d2G G2G|\"G7\"BAG A2B|\"C\"c3 -c2c|\"G\"BAG \"D\"A2A|\"Em\"B2E EFG|\"Am\"FED \"D\"G3|\\n\"G\"d2B GBc|\"G\"ded \"D7\"cBA|\"G\"Bcd \"D7\"cBA|\"G\"Bdc BAB|\\n\"D\"cAF DFA|\"G\"BcB \"D\"AFA|\"G\"BGE D,2D|\"C\"EFG \"G\"DFA|\"D\"d3 d3||\\nM:4/4\\nL:1/4\\n\"C\"e2 \"G7\"d2|\"C\"c3/2d/2 ce|\"D7\"dc BA|\"G7\"GG AG|\"C\"cc cc|\"C\"G4|\"C\"EGG CE|\\\\\\n\"Dm\"D2 D2|\"G\"DG \"D7\"FA|\"G\"G3||\\n\\n\\nX: 48\\nT:John Lest A 1\\n% Nottingham Music Database\\nS:FTB, via EF\\nM:4/4\\nL:1/4\\nK:D\\nf/2e/2|\"D\"dd \"A7/e\"GA/2B/2|\"D/f+\"Af \"G\"g/2f/2e/2d/2|\\\\\\n\"D\"f/2e/2d/2c/2 \"A7\"e/2d/2c/2e/2|\"D\"dA A:|\\nP:B\\nf/2e/2|\"D\"de/2f/2 \"G\"gg/2a/2|\"G\"ba \"A7\"ge|\"D\"dd \"A7\"d/2c/2B/2A/2|\"D\"FA \"A7\"Ac|\"D\"d3:|\\nP:B\\nA/2G/2|\"D\"FA dc|\"G\"BA Bc|\"D\"d/2c/2d/2e/2 fd|\"Em\"Be \"A7\"Bc|\"D\"ed d:|\\n\\n\\nX: 90\\nT:The Mountan\\'s Hain\\n% Nottingham Music Database\\nS:Trad, arr Phil Rowe\\nM:6/8\\nK:D\\nf/2e/2|\"D\"d3 AGF|\"G\"GAB \"D\"AGF|\"Em\"G3 \"A7\"a2g|\"D\"fdd AFG|\\n\"D\"AFA \"G\"dcB|\"D\"A2d \"Em\"cBA|\"A\"aca efe|\"Bm\"fdc \"A7\"efg|\\\\\\n\"D\"a3 \"A\"f3:|\\n\"D\"d3 AFD|\"G\"B2A G3|\"G\"B2B Bcd|\"D\"A3 -AGA|\"G\"B2B BAG|\"D\"A2A ABA|\\n\"D\"d2e f2g|\"D\"afd AFA|\"Em\"B3 \"G\"B3|\"A7\"ABc g2e|\\\\\\n\"D\"f3 \"G\"g2f|\\n\"D\"agf \"A\"e2d|\"D\"c2d \"F#m\"efg|\"Bm\"f2B \"F#7\"A2c|\"Bm\"B3 \"A7\"ABA|\"D\"F2D D2F|\\n\"D\"F2E D2E|\"D\"DFA d2A|\"G\"B2e \"Em\"gfg|\"A7\"a2A \"D\"FAF|\\n\"D\"AGF FEF|\"G\"GAG d2B|\"D\"AFA \"G\"dcB|\"D\"A3 -AFA|\"G\"Bcd dcB|\\n\"D\"ABA FAd|\"D\"fga agf|\"A\"edc \"C\"=cBA|\"D\"d3 -d3:|\\n\\nX: 284\\nT:Sulands of Fyels\\n% Nottingham Music Database\\nS:AlyB via Lesley, via EF\\nM:4/4\\nL:1/4\\nK:G\\nP:A\\nD|\"G\"GG \"D7\"G/2F/2E/2D/2|\"C\"G/2A/2B/2c/2 dd|\"C\"eg \"G\"d2|\"G\"gd dB/2c/2|\\\\\\n\"G\"dd BA|\\n\"G\"GD B/2A/2G/2B/2|\"G\"dc AG|\"G\"dB \"C\"cA|\"D7\"d/2^c/2d/2e/2 \"G\"d2|\\\\\\n\"C\"ce \"D7\"dc|\\n\"G\"BG \"D7\"Ac|\"G\"dG \"D7\"G/2B/2A/2G/2|\"G\"BG \"C\"EG|\"D7\"F/2G/2A/2B/2 cD|\"G\"GG G2:|\\n\"G\"Bd dg|\"C\"fe \"G\"d2|\"C\"ee \"G\"dB|\"D7\"AG \"G\"G2|\"C\"ee \"G\"dB/2c/2|\"C\"dc \"D7\"Bc|\\\\\\n\"G\"d/2d/2d/2d/2 Bd|\\n\"G7\"d3/2B/2 GG|\"C\"ce dc|\"G\"ed Bd|\"D7\"A3d/2c/2|\"G\"BG \"C\"G3/2E/2|\\\\\\n\"G\"D3:|\\n\\n\\nX: 64\\nT:Criums\\n% Nottingham Music Database\\nY:AAB\\nS:Trad, via EF\\nM:6/8\\nK:D\\nP:A\\nF|\"D\"D2D D3|\"A7\"ABc \"D\"def|\"Em\"gbg \"E7\"Bcd|\"A7\"e2c ABc|\\n\"D\"d2A F2A|\"Em\"B2A G2F|\"Em\"EFG \"A7\"FED|\"D\"F2D D2d|\\n\"G\"BAG BAG|\"D\"A2A \"Bm\"d2e|\"Em\"fgf \"A\"efg|\"D\"afd \"A7\"Adc|\\n\"D\"d3 \"A7\"F2A|\"D\"def def|\"A7\"e2A ABc|\"D\"d3 d2:|\\n\\n\\nX: 274\\nT:S and 1\\n% Nottingham Music Database\\nS:Kevin Briggs, via EF\\nM:4/4\\nL:1/4\\nK:G\\nP:A\\n(3D/2E/2F/2|\"G\"GG/2F/2 G/2A/2B/2c/2|\"G\"dd d/2c/2B/2A/2|\\\\\\n\"Am\"B/2c/2A/2c/2 \"D7\"B/2G/2A/2F/2|\"G\"GB G:|\\nP:B\\nB/2c/2|\"G\"dB \"D7\"c/2d/2c/2B/2|\"G\"dB/2c/2 dd|\"C\"ea fe|\"D\"d4|\"D7\"D3D|\"G\"G3E|\\n\"G\"DG \"D7/f+\"dc|\"G\"B/2c/2d/2c/2 BG|\"Am\"cA \"D7\"A2|\"G\"B/2c/2d/2c/2 GB|\\\\\\n\"G\"GB \"D7\"AB|\"G\"DG G:|\\n\\n\\nX: 68\\nT:Swept May\\n% Nottingham Music Database\\nS:Mick Peat\\nM:4/4\\nL:1/4\\nK:G\\nBd ^f|\"G\"ge dB|\"G\"DG BG|EG B_B|\"D7\"A4|\"G\"GD DB|\"G\"dc BAG|\\n\"Am\"FG AG-|\"D7\"FG AG|\"G\"Bd ^cd|\"G\"ed BG|\"Em\"EF \"D7\"ED|\"G\"G4-|G||\\n\\n\\nX: 46\\nT:Rofd Od The Bagel\\n% Nottingham Music Database\\nS:Kevin Briggs\\nM:3/4\\nL:1/4\\nK:G\\ne/2f/2|\"G\"g2d|\"G\"BdB|\"G/b\"G2A|\"C\"B2E|\"G\"D2^F|\"C\"E2E|\"G\"D2B|\"G/d\"B2B|\"Em\"B2E|\"Am/c\"E3|\"D7\"A3|\"G\"G3-|\\\\\\n\"G\"G2||\\n\\n\\nX: 21\\nT:Proutesumal\\'s Reel\\n% Nottingham Music Database\\nS:EF\\nY:AB\\nM:6/8\\nK:A\\nP:A\\nF/2G/2|\"A\"A/2c/2e/2a/2 a3/2e/2f|\"A\"e3 \"F#m\"A2B|\"Bm\"cd2 \"E7\"efg|\"A\"a2e \"E7\"fed|\"A\"c3 A2f|\\\\\\n\"A\"e3 -\"E7\"dfg|\\n\"A\"a3 f2e|\"D\"a3 f3|\"A\"eac cBA|\"A\"Ace ecA|\"E7\"G3 B2G|\"A\"ABc \"E7\"Bed|\\n\"A\"c2e A2c|\"Bm\"B2c d2c|\"E7\"B2E E2G|\"A\"A3 -A3|\"A7\"A2B ^c3|'"
            ]
          },
          "metadata": {
            "tags": []
          },
          "execution_count": 29
        }
      ]
    },
    {
      "cell_type": "code",
      "metadata": {
        "colab": {
          "base_uri": "https://localhost:8080/"
        },
        "id": "2QyvgmOlayV3",
        "outputId": "421ebf44-93f8-4bf9-e092-7e64897b33b6"
      },
      "source": [
        "\n",
        "for i in seq:\n",
        "  if i==\"\\n\":\n",
        "    print(end=\"\\n\")\n",
        "  else:\n",
        "    print(i,end=\"\")"
      ],
      "execution_count": 30,
      "outputs": [
        {
          "output_type": "stream",
          "text": [
            "9\n",
            "M:9/8\n",
            "L:1/8\n",
            "Q:1 1150|P\"G\n",
            "P:Lig\n",
            "d|\"G\"G/2F/2G/2G/2 Bd/2B/2|\"G\"G/2A/2G/2F/2 ED/2G/2|\\\n",
            "\"Am\"A/2B/2c/2d/2 c/2B/2A/2G/2|\"Am\"FA A:|\n",
            "P:B\n",
            "A/2G/2|\"D\"F/2D/2D/2E/2 F/2D/2D/2E/2|\"G\"D/2E/2G/2F/2 GG/2A/2|\"Em\"B/2c/2B/2G/2 A/2B/2c/2d/2|\\\n",
            "\"Em\"e/2d/2c/2B/2 \"Am\"A/2B/2c/2d/2|\"Am\"eA A:|\n",
            "P:B ett A\n",
            "d/2c/2|B/2d/2=c/2d/2 e/2d/2c/2B/2|A/2g/2e/2f/2 g/2f/2e/2d/2|\\\n",
            "BA/2G/2 F/2D/2E/2G/2|\n",
            "F/2G/2A/2B/2 c/2B/2d/2B/2|c/2e/2f/2g/2 a/2e/2d/2c/2|\\\n",
            "g/2d/2c/2B/2 A/2G/2F/2E/2|G/2F/2E/2D/2 B/2E/2D/2E/2|\n",
            "G/4B/4A/2G/2 F/2G/2F/2E/2|G/2E/2E/2G/2 F/2G/2A/2B/2|\\\n",
            " [1A B/2A/2\n",
            "P:3\n",
            "B/2A/2||\n",
            "P:t. 4\n",
            "f/2 z/2z/2]z/2 |d/2z/2e/2 F/2D/2d/2c/2|B/2d/2e/2F/2 a/2A/2b/2e/2|\\\n",
            "K:D\n",
            "a/4f/8g/8a/4c/4d/4f/4 g/4f/4f/4g/4f/4e/4|d/4B/4A/8B/4A/4A/4B/4 c/4d/4e/4f/4e/4d/4c/4B/4A/4G/4|\\\n",
            "K:D\n",
            "F/2f/2e/2d/2c d/2A/2c/2B/2|c/2d/2e/2f/2 d/2c/2d/2e/2|\\\n",
            "K:D\n",
            "f/4F/4G/4F/4E/4e/4f/4e/4 d/4F/4F/4D/4E/4F/4E/4A/4A/4G/4|F/4G/4B/4A/4A/4G/4A/4A/4 F/4G/4B/4A/4A/4G/4F/4E/4A/4G/4|\\\n",
            "D/4E/8C/4E/4C/4F/4G/4F/4D/4E/4 B/4A/4B/4A/4A/4G/4A/4B/4A/4G/4|\\\n",
            "K:D\n",
            "F/2f/2e z/2d/2f|bF bc'||\n",
            "K:D\n",
            "F/2d/2|\"D\"f/2d/2f/2d/2 d/2d/2f/2d/2|\"D\"f/2f/2A/2f/2 -f/2d/2A|\\\n",
            "\"A\"B/2c/2e/2c/2 \"A\"^c/2a/2g/2c/2|\"D\"d/2e/2f/2d/2 \"A7\"e/2g/2f/2e/2|\n",
            "\"D\"df/2d/2 c/2d/2f/2d/2|\"A\"e/2c/2e/2c/2 \"A\"ac/2a/2|\"G\"g/2f/2e/2d/2 \"A\"c/2d/2e/2c/2|\\\n",
            "\"G\"e/2d/2c/2B/2 \"A\"A/2e/2A/2c/2|\"Em\"B/2A/2G/2B/2 \"A\"A3/2F/2|\n",
            "\"D\"D/2F/2A/2F/2 B/2F/2D/2F/2|\"C\"=CA Ez|\"A7\"A/2c/2e/2g/2 e/2c/2e/2c/2|\\\n",
            "\"D\"df d::\n",
            "f/2g/2|\"D\"aa/2f/2 aa/2f/2|\"A\"e/2f/2e/2d/2 c/2B/2A|\"A\"C/2E/2E =C2|\"D\"D/2F/2A/2d/2 fe/2d/2|\n",
            "\"D\"fA fA|\"D\"f/2g/2f/2e/2 d2|\"A7\"c/2d/2e/2c/2 A/2B/2c/2A/2|\\\n",
            "\"D\"f3f/2g/2|\n",
            "\"D\"\"f#\"a/2a/2f/2d/2 \"Bm\"fe/2d/2|\"Em\"e/2d/2e/2f/2 g/2f/2e/2d/2|\\\n",
            "\"D\"A/2F/2A/2F/2 d/2F/2E/2D/2|\"D\"F/2A/2d/2e/2 fd/2A/2|\n",
            "\"D\"F/2A/2d/2c/2 d/2e/2f/2d/2|\"A7\"e/2c/2e/2g/2 e/2c/2e/2g/2|\"D\"f/2d/2f/2a/2 g/2f/2d/2f/2|\\\n",
            "\"G\"e/2d/2B/2f/2 g/2f/2e/2d/2|\"A7\"c/2A/2B/2c/2 \"D\"d::\n",
            "P:B\n",
            "d/2e/2|\"D\"f/2d/2B/2d/2 df|\"G\"B/2G/2B/2d/2 \"A\"c/2d/2c/2B/2|\\\n",
            "\"A\"A/2d/2e/2f/2 \"A7\"g/2f/2e/2g/2|\"A7\"f/2d/2e/2c/2 \"D\"d:|\n",
            "\n",
            "\n",
            "X: 51\n",
            "T:Chore The Wanden\n",
            "% Nottingham Music Database\n",
            "S:John Goodacre 1984, via PR\n",
            "M:4/4\n",
            "L:1/4\n",
            "K:C\n",
            "GG |\"C\"c2 \"G7\"G2|\"C\"cd -dc|\"G7\"ed BG|\"C\"c2 e2|\"C\"A2 GA|\"G\"B2 A2-|\"C\"c2 -c2|\"D7\"c2 A2|\"G\"G4-|\\\n",
            "\"G7\"G2 ||\n",
            "\n",
            "\n",
            "X: 16\n",
            "T:Westland Cance\n",
            "% Nottingham Music Database\n",
            "S:Bob McQuillen Feb 1975, via PR\n",
            "M:4/4\n",
            "L:1/4\n",
            "K:F\n",
            "C|\"F\"FF AA|c=c/2c/2 ef-|\"Dm\"a/2g/2f/2e/2 \"G7\"d/2c/2B/2A/2|\\\n",
            "[1\"C\"ce d/2c/2B/2G/2:|2\"C\"ec cd:|\n",
            "K:C\n",
            "|:\"C\"c/2c/2c/2c/2 cc|e/2c/2e/2c/2 c/2e/2c/2A/2|\"Dm\"F/2G/2F/2G/2 A/2B/2c/2d/2|\\\n",
            "\"D7\"e/2d/2c/2B/2 \"G\" G:|\n",
            "\n",
            "\n",
            "X: 8\n",
            "T:Nonerman's Jig\n",
            "% Nottingham Music Database\n",
            "S:Trad, via EF\n",
            "M:6/8\n",
            "K:Am\n",
            "E|\"Am\"A2B c2d|ecA ecA|\"G\"G2G G2G|\"G\"BGB dcB|\n",
            "\"Am\"A2A A^GA|\"G\"BAG \"Em\"AGG|\"Am\"ABc \"E\"^cBG|\"Am\"\"F\"FAA A2:|\n",
            "\n",
            "\n",
            "X: 123\n",
            "T:King of the Fairies\n",
            "% Nottingham Music Database\n",
            "S:Helen, via EF\n",
            "M:4/4\n",
            "L:1/4\n",
            "K:A\n",
            "P:A\n",
            "e/2d/2|\"A\"cA A/2B/2A/2F/2|\"A\"E/2F/2A/2B/2 cB/2A/2|\"D\"f/2e/2d/2c/2 \"E7\"B/2A/2G/2B/2|\\\n",
            "\"A\"Aa/2g/2 \"D\"f/2d/2e/2f/2|\"E7\"e/2d/2c/2B/2 \"A\"A:|\n",
            "P:B\n",
            "c/2d/2|\"A\"e/2c/2A/2e/2 c/2A/2c/2A/2|\"D\"f/2g/2a/2f/2 \"A\"c/2e/2A/2c/2|\\\n",
            "\"D\"B/2A/2A/2B/2 \"E7\"A/2B/2c/2d/2|\"A\"e/2d/2c/2B/2 A/2f/2e/2d/2|\n",
            "\"A\"c/2A/2c/2d/2 e/2c/2A/2c/2|\"D\"d/2f/2d/2c/2 d/2f/2a/2f/2|\\\n",
            "\"E7\"e/2d/2c/2B/2 \"A\"AA/2d/2|\n",
            "\"A\"c/2A/2e/2A/2 f/2A/2e/2A/2|c/2A/2c/2A/2 c/2A/2f/2a/2|\\\n",
            "\"A\"e/2c/2B/2A/2 \"E\"Bc/2d/2|\n",
            "\"A\"e/2c/2A/2c/2 f/2c/2a/2c/2|\"D\"g/2f/2e/2f/2 \"E\"g/2a/2b/2g/2|\\\n",
            "\"A\"a/2g/2f/2e/2 \"D\"d/2c/2d/2e/2|\"E7\"f/2e/2d/2c/2 \"A\"BA/2A/2|\n",
            "\"D\"d/2f/2a/2f/2 \"A\"e/2c/2c/2e/2|\"D\"f/2d/2f/2a/2 \"A\"e/2c/2A/2e/2|\\\n",
            "\"D\"f/2d/2f/2a/2 \"A\"e/2c/2A/2c/2|\"D\"d/2c/2d/2A/2 d/2A/2F/2A/2|\"E7\"BA/2B/2 \"A\"c/2B/2A/2G/2|\n",
            "\"D\"Af/2d/2 A/2d/2f/2d/2|\"A\"e/2c/2e/2a/2 \"D\"f/2d/2f/2a/2|\"A\"e/2c/2A/2c/2 \"E\"BG/2e/2|\\\n",
            "\"A\"a/2g/2a/2e/2 \"D\"f/2e/2d/2c/2|\"E7\"B/2A/2G/2B/2 \"A\"A::\n",
            "P:B\n",
            "c/2B/2|\"A\"Ac/2A/2 Bc/2A/2|\"Bm\"B/2c/2d/2e/2 fa|\"E\"g/2e/2f/2e/2 \"E7\"d/2e/2d/2B/2|\\\n",
            "\"A\"A/2B/2A/2F/2 D||\n",
            "\n",
            "\n",
            "X: 10\n",
            "T:Merrydale Rock\n",
            "% Nottingham Music Database\n",
            "S:Bob McQuillen Bet 1971, via Phil Rowe\n",
            "M:6/8\n",
            "K:A\n",
            "\"E7\"A2B |\"A\"c2e \"E7/f+\"efg|\"A\"a2A AGA|\"D\"FAd \"A\"cAC|\n",
            "\"D\"FAA \"A\"GEC|\"A\"EAc \"E7\"BGE|\"A\"CEC A2G|\"A\"BAA \"E7\"Bcd|\"A\"A3 A2:|\n",
            "P:B\n",
            "|:c|\"D\"d2d dcd|\"A\"a2e \"E7\"e2d|\"A\"c2A Ace|\"D\"f2f fgf|\"A\"e2c \"E7\"B2d|\n",
            "\"A\"c2e edc|\"Bm\"d2c \"E7\"Bcd|\"A\"e3 \"E7\"e3|\"A\"A2A ABc|\"Bm\"d2B \"E7\"ced|\n",
            "\"A\"c2c ecA|\"B7\"Bcd dcB|\"E7\"F3 G2f|\"A\"e2c \"E7\"Bcd|\"A\"e3 Ace|\n",
            "\"A\"efe cde|\"D\"f2f f2a|\"A\"ecA ecA|\"D\"d2d def|\n",
            "\"A\"e3 c2e|\"D\"AFA dFF|\"E7\"AcB EFG|\"A\"A3 -A2A||\n",
            "\"A\"c2c \"E7\"Bed|\"A\"c2A \"E7\"AG^G|\"A\"A3 -A2e|\"D\"f2f \"Bm\"e2f|\"E\"efd \"A\"cde|\n",
            "\"D\"faf \"A\"edc|\"D\"a2g \"Bm\"fed|\"A\"c2c \"E7\"BAG|\"A\"A3 -A2:|\n",
            "\n",
            "\n",
            "X: 52\n",
            "T:The Chack Cadding\n",
            "% Nottingham Music Database\n",
            "S:Trad, arr Phil Rowe\n",
            "M:6/8\n",
            "K:Em\n",
            "F|\"Em\"EGE F3|\"Em\"EFG G2B|\"A\"ABA G2F|\"Em\"EFE \"G\"G2G|\"C\"EGG \"D7\"AGF|\"G\"G2D G2::\n",
            "A|\"G\"B2G \"D7\"AFD|\"G\"G3 \"D7\"A3|\"G\"dcB \"A7/c\"A2G|\"D7\"FGA DEF|\n",
            "\"G\"G2A \"Em\"B2E|\"Em\"E2B \"Am\"G2^F|\"D7\"DGc \"G\"BAG|\n",
            "\"C\"e2c \"G\"d2B|\"C\"c2c \"D7\"cBA|\"G\"GAB \"C\"cde|\"D\"d3 \"Am\"A2G|\n",
            "\"G\"B3 \"D7\"AGF|\"G\"DED G2A|\"C\"BAG \"D7\"FED|\"C\"EFG \"D7\"AFD|\"G\"G3 G2D::\n",
            "\"G\"GBA G3|\"C\"Bcd \"G\"B2A|\"C\"GEE \"G\"D2E|\"Am\"E2C \"D7\"D2c|\n",
            "\"G\"BGE DED|\"C\"E2F G2E|\"G\"D2B, D2D|\"C\"E2D \"D\"F2G|\"G\"A2B \"C\"c2B\\\n",
            "|\n",
            "\"Em\"EFE G2A|\"G\"BAG G2D|\"C\"E2D \"D\"D2D|\"G\"G2G GAB|\"C\"ABc \"G\"dcB|\"Am\"ABG \"D7\"FED|\n",
            "\"G\"d2G G2G|\"G7\"BAG A2B|\"C\"c3 -c2c|\"G\"BAG \"D\"A2A|\"Em\"B2E EFG|\"Am\"FED \"D\"G3|\n",
            "\"G\"d2B GBc|\"G\"ded \"D7\"cBA|\"G\"Bcd \"D7\"cBA|\"G\"Bdc BAB|\n",
            "\"D\"cAF DFA|\"G\"BcB \"D\"AFA|\"G\"BGE D,2D|\"C\"EFG \"G\"DFA|\"D\"d3 d3||\n",
            "M:4/4\n",
            "L:1/4\n",
            "\"C\"e2 \"G7\"d2|\"C\"c3/2d/2 ce|\"D7\"dc BA|\"G7\"GG AG|\"C\"cc cc|\"C\"G4|\"C\"EGG CE|\\\n",
            "\"Dm\"D2 D2|\"G\"DG \"D7\"FA|\"G\"G3||\n",
            "\n",
            "\n",
            "X: 48\n",
            "T:John Lest A 1\n",
            "% Nottingham Music Database\n",
            "S:FTB, via EF\n",
            "M:4/4\n",
            "L:1/4\n",
            "K:D\n",
            "f/2e/2|\"D\"dd \"A7/e\"GA/2B/2|\"D/f+\"Af \"G\"g/2f/2e/2d/2|\\\n",
            "\"D\"f/2e/2d/2c/2 \"A7\"e/2d/2c/2e/2|\"D\"dA A:|\n",
            "P:B\n",
            "f/2e/2|\"D\"de/2f/2 \"G\"gg/2a/2|\"G\"ba \"A7\"ge|\"D\"dd \"A7\"d/2c/2B/2A/2|\"D\"FA \"A7\"Ac|\"D\"d3:|\n",
            "P:B\n",
            "A/2G/2|\"D\"FA dc|\"G\"BA Bc|\"D\"d/2c/2d/2e/2 fd|\"Em\"Be \"A7\"Bc|\"D\"ed d:|\n",
            "\n",
            "\n",
            "X: 90\n",
            "T:The Mountan's Hain\n",
            "% Nottingham Music Database\n",
            "S:Trad, arr Phil Rowe\n",
            "M:6/8\n",
            "K:D\n",
            "f/2e/2|\"D\"d3 AGF|\"G\"GAB \"D\"AGF|\"Em\"G3 \"A7\"a2g|\"D\"fdd AFG|\n",
            "\"D\"AFA \"G\"dcB|\"D\"A2d \"Em\"cBA|\"A\"aca efe|\"Bm\"fdc \"A7\"efg|\\\n",
            "\"D\"a3 \"A\"f3:|\n",
            "\"D\"d3 AFD|\"G\"B2A G3|\"G\"B2B Bcd|\"D\"A3 -AGA|\"G\"B2B BAG|\"D\"A2A ABA|\n",
            "\"D\"d2e f2g|\"D\"afd AFA|\"Em\"B3 \"G\"B3|\"A7\"ABc g2e|\\\n",
            "\"D\"f3 \"G\"g2f|\n",
            "\"D\"agf \"A\"e2d|\"D\"c2d \"F#m\"efg|\"Bm\"f2B \"F#7\"A2c|\"Bm\"B3 \"A7\"ABA|\"D\"F2D D2F|\n",
            "\"D\"F2E D2E|\"D\"DFA d2A|\"G\"B2e \"Em\"gfg|\"A7\"a2A \"D\"FAF|\n",
            "\"D\"AGF FEF|\"G\"GAG d2B|\"D\"AFA \"G\"dcB|\"D\"A3 -AFA|\"G\"Bcd dcB|\n",
            "\"D\"ABA FAd|\"D\"fga agf|\"A\"edc \"C\"=cBA|\"D\"d3 -d3:|\n",
            "\n",
            "X: 284\n",
            "T:Sulands of Fyels\n",
            "% Nottingham Music Database\n",
            "S:AlyB via Lesley, via EF\n",
            "M:4/4\n",
            "L:1/4\n",
            "K:G\n",
            "P:A\n",
            "D|\"G\"GG \"D7\"G/2F/2E/2D/2|\"C\"G/2A/2B/2c/2 dd|\"C\"eg \"G\"d2|\"G\"gd dB/2c/2|\\\n",
            "\"G\"dd BA|\n",
            "\"G\"GD B/2A/2G/2B/2|\"G\"dc AG|\"G\"dB \"C\"cA|\"D7\"d/2^c/2d/2e/2 \"G\"d2|\\\n",
            "\"C\"ce \"D7\"dc|\n",
            "\"G\"BG \"D7\"Ac|\"G\"dG \"D7\"G/2B/2A/2G/2|\"G\"BG \"C\"EG|\"D7\"F/2G/2A/2B/2 cD|\"G\"GG G2:|\n",
            "\"G\"Bd dg|\"C\"fe \"G\"d2|\"C\"ee \"G\"dB|\"D7\"AG \"G\"G2|\"C\"ee \"G\"dB/2c/2|\"C\"dc \"D7\"Bc|\\\n",
            "\"G\"d/2d/2d/2d/2 Bd|\n",
            "\"G7\"d3/2B/2 GG|\"C\"ce dc|\"G\"ed Bd|\"D7\"A3d/2c/2|\"G\"BG \"C\"G3/2E/2|\\\n",
            "\"G\"D3:|\n",
            "\n",
            "\n",
            "X: 64\n",
            "T:Criums\n",
            "% Nottingham Music Database\n",
            "Y:AAB\n",
            "S:Trad, via EF\n",
            "M:6/8\n",
            "K:D\n",
            "P:A\n",
            "F|\"D\"D2D D3|\"A7\"ABc \"D\"def|\"Em\"gbg \"E7\"Bcd|\"A7\"e2c ABc|\n",
            "\"D\"d2A F2A|\"Em\"B2A G2F|\"Em\"EFG \"A7\"FED|\"D\"F2D D2d|\n",
            "\"G\"BAG BAG|\"D\"A2A \"Bm\"d2e|\"Em\"fgf \"A\"efg|\"D\"afd \"A7\"Adc|\n",
            "\"D\"d3 \"A7\"F2A|\"D\"def def|\"A7\"e2A ABc|\"D\"d3 d2:|\n",
            "\n",
            "\n",
            "X: 274\n",
            "T:S and 1\n",
            "% Nottingham Music Database\n",
            "S:Kevin Briggs, via EF\n",
            "M:4/4\n",
            "L:1/4\n",
            "K:G\n",
            "P:A\n",
            "(3D/2E/2F/2|\"G\"GG/2F/2 G/2A/2B/2c/2|\"G\"dd d/2c/2B/2A/2|\\\n",
            "\"Am\"B/2c/2A/2c/2 \"D7\"B/2G/2A/2F/2|\"G\"GB G:|\n",
            "P:B\n",
            "B/2c/2|\"G\"dB \"D7\"c/2d/2c/2B/2|\"G\"dB/2c/2 dd|\"C\"ea fe|\"D\"d4|\"D7\"D3D|\"G\"G3E|\n",
            "\"G\"DG \"D7/f+\"dc|\"G\"B/2c/2d/2c/2 BG|\"Am\"cA \"D7\"A2|\"G\"B/2c/2d/2c/2 GB|\\\n",
            "\"G\"GB \"D7\"AB|\"G\"DG G:|\n",
            "\n",
            "\n",
            "X: 68\n",
            "T:Swept May\n",
            "% Nottingham Music Database\n",
            "S:Mick Peat\n",
            "M:4/4\n",
            "L:1/4\n",
            "K:G\n",
            "Bd ^f|\"G\"ge dB|\"G\"DG BG|EG B_B|\"D7\"A4|\"G\"GD DB|\"G\"dc BAG|\n",
            "\"Am\"FG AG-|\"D7\"FG AG|\"G\"Bd ^cd|\"G\"ed BG|\"Em\"EF \"D7\"ED|\"G\"G4-|G||\n",
            "\n",
            "\n",
            "X: 46\n",
            "T:Rofd Od The Bagel\n",
            "% Nottingham Music Database\n",
            "S:Kevin Briggs\n",
            "M:3/4\n",
            "L:1/4\n",
            "K:G\n",
            "e/2f/2|\"G\"g2d|\"G\"BdB|\"G/b\"G2A|\"C\"B2E|\"G\"D2^F|\"C\"E2E|\"G\"D2B|\"G/d\"B2B|\"Em\"B2E|\"Am/c\"E3|\"D7\"A3|\"G\"G3-|\\\n",
            "\"G\"G2||\n",
            "\n",
            "\n",
            "X: 21\n",
            "T:Proutesumal's Reel\n",
            "% Nottingham Music Database\n",
            "S:EF\n",
            "Y:AB\n",
            "M:6/8\n",
            "K:A\n",
            "P:A\n",
            "F/2G/2|\"A\"A/2c/2e/2a/2 a3/2e/2f|\"A\"e3 \"F#m\"A2B|\"Bm\"cd2 \"E7\"efg|\"A\"a2e \"E7\"fed|\"A\"c3 A2f|\\\n",
            "\"A\"e3 -\"E7\"dfg|\n",
            "\"A\"a3 f2e|\"D\"a3 f3|\"A\"eac cBA|\"A\"Ace ecA|\"E7\"G3 B2G|\"A\"ABc \"E7\"Bed|\n",
            "\"A\"c2e A2c|\"Bm\"B2c d2c|\"E7\"B2E E2G|\"A\"A3 -A3|\"A7\"A2B ^c3|"
          ],
          "name": "stdout"
        }
      ]
    },
    {
      "cell_type": "code",
      "metadata": {
        "id": "A-diR_UPa9jI"
      },
      "source": [
        "# use this link (copy paste the AI generated music notes)\n",
        "# https://www.abcjs.net/abcjs-editor.html"
      ],
      "execution_count": 31,
      "outputs": []
    },
    {
      "cell_type": "code",
      "metadata": {
        "id": "yx6lMdWRcE38"
      },
      "source": [
        ""
      ],
      "execution_count": null,
      "outputs": []
    }
  ]
}